{
 "cells": [
  {
   "cell_type": "markdown",
   "metadata": {},
   "source": [
    "# Projet apprentissage"
   ]
  },
  {
   "cell_type": "markdown",
   "metadata": {},
   "source": [
    "### Importation des différents modules :"
   ]
  },
  {
   "cell_type": "code",
   "execution_count": 1,
   "metadata": {},
   "outputs": [],
   "source": [
    "import numpy as np\n",
    "import pandas as pd\n",
    "import seaborn as sns\n",
    "import matplotlib.pyplot as plt\n",
    "import warnings\n",
    "warnings.filterwarnings(\"ignore\")"
   ]
  },
  {
   "cell_type": "markdown",
   "metadata": {},
   "source": [
    "### Informations sur le dataset\n",
    "Le jeu de données choisi est **Pima Indians Diabetes Database** consultable à l'adresse https://www.kaggle.com/uciml/pima-indians-diabetes-database <br>\n",
    "Ce dataset contient des données sur les Pimas, qui est un peuple Indien d'Amérique du Nord. Cette communauté est connue pour ses problèmes d'obésité et de diabète. Les données recueillies ici sont toutes issues de femmes d'au moins 21 ans. <br>\n",
    "L'objectif est de réussir à prédire si une personne sera diabétique ou non à partir des variables suivantes :\n",
    "- **Pregnancies** : Nombre de fois enceinte\n",
    "- **Glucose** : Concentration de glycémie \n",
    "- **BloodPressure** : Pression sanguine diastolique (mm Hg)\n",
    "- **SkinThickness** : Epaisseur du pli cutané au niveau du triceps (mm)\n",
    "- **Insulin** : Taux d'insulin ($\\mu$U/mL)\n",
    "- **BMI** : Indice de Masse Corporelle\n",
    "- **DiabetesPedigreeFunction** : Score évaluant la probabilité d'être diabétique selon l'historique familial \n",
    "- **Age** : Age (années)\n",
    "- **Outcome** : Variable binaire, vaut 1 si la personne est diabétique et 0 sinon"
   ]
  },
  {
   "cell_type": "markdown",
   "metadata": {},
   "source": [
    "### Importation du jeu de données"
   ]
  },
  {
   "cell_type": "code",
   "execution_count": 2,
   "metadata": {},
   "outputs": [],
   "source": [
    "data = pd.read_csv('pima_indians_diabetes.csv')"
   ]
  },
  {
   "cell_type": "code",
   "execution_count": 3,
   "metadata": {},
   "outputs": [
    {
     "data": {
      "text/html": [
       "<div>\n",
       "<style scoped>\n",
       "    .dataframe tbody tr th:only-of-type {\n",
       "        vertical-align: middle;\n",
       "    }\n",
       "\n",
       "    .dataframe tbody tr th {\n",
       "        vertical-align: top;\n",
       "    }\n",
       "\n",
       "    .dataframe thead th {\n",
       "        text-align: right;\n",
       "    }\n",
       "</style>\n",
       "<table border=\"1\" class=\"dataframe\">\n",
       "  <thead>\n",
       "    <tr style=\"text-align: right;\">\n",
       "      <th></th>\n",
       "      <th>Pregnancies</th>\n",
       "      <th>Glucose</th>\n",
       "      <th>BloodPressure</th>\n",
       "      <th>SkinThickness</th>\n",
       "      <th>Insulin</th>\n",
       "      <th>BMI</th>\n",
       "      <th>DiabetesPedigreeFunction</th>\n",
       "      <th>Age</th>\n",
       "      <th>Outcome</th>\n",
       "    </tr>\n",
       "  </thead>\n",
       "  <tbody>\n",
       "    <tr>\n",
       "      <th>0</th>\n",
       "      <td>6</td>\n",
       "      <td>148</td>\n",
       "      <td>72</td>\n",
       "      <td>35</td>\n",
       "      <td>0</td>\n",
       "      <td>33.6</td>\n",
       "      <td>0.627</td>\n",
       "      <td>50</td>\n",
       "      <td>1</td>\n",
       "    </tr>\n",
       "    <tr>\n",
       "      <th>1</th>\n",
       "      <td>1</td>\n",
       "      <td>85</td>\n",
       "      <td>66</td>\n",
       "      <td>29</td>\n",
       "      <td>0</td>\n",
       "      <td>26.6</td>\n",
       "      <td>0.351</td>\n",
       "      <td>31</td>\n",
       "      <td>0</td>\n",
       "    </tr>\n",
       "    <tr>\n",
       "      <th>2</th>\n",
       "      <td>8</td>\n",
       "      <td>183</td>\n",
       "      <td>64</td>\n",
       "      <td>0</td>\n",
       "      <td>0</td>\n",
       "      <td>23.3</td>\n",
       "      <td>0.672</td>\n",
       "      <td>32</td>\n",
       "      <td>1</td>\n",
       "    </tr>\n",
       "    <tr>\n",
       "      <th>3</th>\n",
       "      <td>1</td>\n",
       "      <td>89</td>\n",
       "      <td>66</td>\n",
       "      <td>23</td>\n",
       "      <td>94</td>\n",
       "      <td>28.1</td>\n",
       "      <td>0.167</td>\n",
       "      <td>21</td>\n",
       "      <td>0</td>\n",
       "    </tr>\n",
       "    <tr>\n",
       "      <th>4</th>\n",
       "      <td>0</td>\n",
       "      <td>137</td>\n",
       "      <td>40</td>\n",
       "      <td>35</td>\n",
       "      <td>168</td>\n",
       "      <td>43.1</td>\n",
       "      <td>2.288</td>\n",
       "      <td>33</td>\n",
       "      <td>1</td>\n",
       "    </tr>\n",
       "  </tbody>\n",
       "</table>\n",
       "</div>"
      ],
      "text/plain": [
       "   Pregnancies  Glucose  BloodPressure  SkinThickness  Insulin   BMI  \\\n",
       "0            6      148             72             35        0  33.6   \n",
       "1            1       85             66             29        0  26.6   \n",
       "2            8      183             64              0        0  23.3   \n",
       "3            1       89             66             23       94  28.1   \n",
       "4            0      137             40             35      168  43.1   \n",
       "\n",
       "   DiabetesPedigreeFunction  Age  Outcome  \n",
       "0                     0.627   50        1  \n",
       "1                     0.351   31        0  \n",
       "2                     0.672   32        1  \n",
       "3                     0.167   21        0  \n",
       "4                     2.288   33        1  "
      ]
     },
     "execution_count": 3,
     "metadata": {},
     "output_type": "execute_result"
    }
   ],
   "source": [
    "data.head() # Affiche les premières observations"
   ]
  },
  {
   "cell_type": "code",
   "execution_count": 4,
   "metadata": {},
   "outputs": [
    {
     "data": {
      "text/plain": [
       "(768, 9)"
      ]
     },
     "execution_count": 4,
     "metadata": {},
     "output_type": "execute_result"
    }
   ],
   "source": [
    "data.shape # Dimensions"
   ]
  },
  {
   "cell_type": "markdown",
   "metadata": {},
   "source": [
    "On peut également observer quelques informations sur les colonnes du dataframe"
   ]
  },
  {
   "cell_type": "code",
   "execution_count": 5,
   "metadata": {},
   "outputs": [
    {
     "name": "stdout",
     "output_type": "stream",
     "text": [
      "<class 'pandas.core.frame.DataFrame'>\n",
      "RangeIndex: 768 entries, 0 to 767\n",
      "Data columns (total 9 columns):\n",
      " #   Column                    Non-Null Count  Dtype  \n",
      "---  ------                    --------------  -----  \n",
      " 0   Pregnancies               768 non-null    int64  \n",
      " 1   Glucose                   768 non-null    int64  \n",
      " 2   BloodPressure             768 non-null    int64  \n",
      " 3   SkinThickness             768 non-null    int64  \n",
      " 4   Insulin                   768 non-null    int64  \n",
      " 5   BMI                       768 non-null    float64\n",
      " 6   DiabetesPedigreeFunction  768 non-null    float64\n",
      " 7   Age                       768 non-null    int64  \n",
      " 8   Outcome                   768 non-null    int64  \n",
      "dtypes: float64(2), int64(7)\n",
      "memory usage: 54.1 KB\n"
     ]
    }
   ],
   "source": [
    "data.info()"
   ]
  },
  {
   "cell_type": "markdown",
   "metadata": {},
   "source": [
    "On vérifie la présence de valeurs manquantes dans le jeu de données"
   ]
  },
  {
   "cell_type": "code",
   "execution_count": 6,
   "metadata": {},
   "outputs": [
    {
     "data": {
      "text/plain": [
       "Pregnancies                 0\n",
       "Glucose                     0\n",
       "BloodPressure               0\n",
       "SkinThickness               0\n",
       "Insulin                     0\n",
       "BMI                         0\n",
       "DiabetesPedigreeFunction    0\n",
       "Age                         0\n",
       "Outcome                     0\n",
       "dtype: int64"
      ]
     },
     "execution_count": 6,
     "metadata": {},
     "output_type": "execute_result"
    }
   ],
   "source": [
    "data.isnull().sum() # Vérification des valeurs manquantes"
   ]
  },
  {
   "cell_type": "markdown",
   "metadata": {},
   "source": [
    "### Quelques statistiques descriptives et graphiques\n",
    "\n",
    "On peut observer des statistiques descriptives pour chacune des variables"
   ]
  },
  {
   "cell_type": "code",
   "execution_count": 7,
   "metadata": {},
   "outputs": [
    {
     "data": {
      "text/html": [
       "<div>\n",
       "<style scoped>\n",
       "    .dataframe tbody tr th:only-of-type {\n",
       "        vertical-align: middle;\n",
       "    }\n",
       "\n",
       "    .dataframe tbody tr th {\n",
       "        vertical-align: top;\n",
       "    }\n",
       "\n",
       "    .dataframe thead th {\n",
       "        text-align: right;\n",
       "    }\n",
       "</style>\n",
       "<table border=\"1\" class=\"dataframe\">\n",
       "  <thead>\n",
       "    <tr style=\"text-align: right;\">\n",
       "      <th></th>\n",
       "      <th>Pregnancies</th>\n",
       "      <th>Glucose</th>\n",
       "      <th>BloodPressure</th>\n",
       "      <th>SkinThickness</th>\n",
       "      <th>Insulin</th>\n",
       "      <th>BMI</th>\n",
       "      <th>DiabetesPedigreeFunction</th>\n",
       "      <th>Age</th>\n",
       "      <th>Outcome</th>\n",
       "    </tr>\n",
       "  </thead>\n",
       "  <tbody>\n",
       "    <tr>\n",
       "      <th>count</th>\n",
       "      <td>768.000000</td>\n",
       "      <td>768.000000</td>\n",
       "      <td>768.000000</td>\n",
       "      <td>768.000000</td>\n",
       "      <td>768.000000</td>\n",
       "      <td>768.000000</td>\n",
       "      <td>768.000000</td>\n",
       "      <td>768.000000</td>\n",
       "      <td>768.000000</td>\n",
       "    </tr>\n",
       "    <tr>\n",
       "      <th>mean</th>\n",
       "      <td>3.845052</td>\n",
       "      <td>120.894531</td>\n",
       "      <td>69.105469</td>\n",
       "      <td>20.536458</td>\n",
       "      <td>79.799479</td>\n",
       "      <td>31.992578</td>\n",
       "      <td>0.471876</td>\n",
       "      <td>33.240885</td>\n",
       "      <td>0.348958</td>\n",
       "    </tr>\n",
       "    <tr>\n",
       "      <th>std</th>\n",
       "      <td>3.369578</td>\n",
       "      <td>31.972618</td>\n",
       "      <td>19.355807</td>\n",
       "      <td>15.952218</td>\n",
       "      <td>115.244002</td>\n",
       "      <td>7.884160</td>\n",
       "      <td>0.331329</td>\n",
       "      <td>11.760232</td>\n",
       "      <td>0.476951</td>\n",
       "    </tr>\n",
       "    <tr>\n",
       "      <th>min</th>\n",
       "      <td>0.000000</td>\n",
       "      <td>0.000000</td>\n",
       "      <td>0.000000</td>\n",
       "      <td>0.000000</td>\n",
       "      <td>0.000000</td>\n",
       "      <td>0.000000</td>\n",
       "      <td>0.078000</td>\n",
       "      <td>21.000000</td>\n",
       "      <td>0.000000</td>\n",
       "    </tr>\n",
       "    <tr>\n",
       "      <th>25%</th>\n",
       "      <td>1.000000</td>\n",
       "      <td>99.000000</td>\n",
       "      <td>62.000000</td>\n",
       "      <td>0.000000</td>\n",
       "      <td>0.000000</td>\n",
       "      <td>27.300000</td>\n",
       "      <td>0.243750</td>\n",
       "      <td>24.000000</td>\n",
       "      <td>0.000000</td>\n",
       "    </tr>\n",
       "    <tr>\n",
       "      <th>50%</th>\n",
       "      <td>3.000000</td>\n",
       "      <td>117.000000</td>\n",
       "      <td>72.000000</td>\n",
       "      <td>23.000000</td>\n",
       "      <td>30.500000</td>\n",
       "      <td>32.000000</td>\n",
       "      <td>0.372500</td>\n",
       "      <td>29.000000</td>\n",
       "      <td>0.000000</td>\n",
       "    </tr>\n",
       "    <tr>\n",
       "      <th>75%</th>\n",
       "      <td>6.000000</td>\n",
       "      <td>140.250000</td>\n",
       "      <td>80.000000</td>\n",
       "      <td>32.000000</td>\n",
       "      <td>127.250000</td>\n",
       "      <td>36.600000</td>\n",
       "      <td>0.626250</td>\n",
       "      <td>41.000000</td>\n",
       "      <td>1.000000</td>\n",
       "    </tr>\n",
       "    <tr>\n",
       "      <th>max</th>\n",
       "      <td>17.000000</td>\n",
       "      <td>199.000000</td>\n",
       "      <td>122.000000</td>\n",
       "      <td>99.000000</td>\n",
       "      <td>846.000000</td>\n",
       "      <td>67.100000</td>\n",
       "      <td>2.420000</td>\n",
       "      <td>81.000000</td>\n",
       "      <td>1.000000</td>\n",
       "    </tr>\n",
       "  </tbody>\n",
       "</table>\n",
       "</div>"
      ],
      "text/plain": [
       "       Pregnancies     Glucose  BloodPressure  SkinThickness     Insulin  \\\n",
       "count   768.000000  768.000000     768.000000     768.000000  768.000000   \n",
       "mean      3.845052  120.894531      69.105469      20.536458   79.799479   \n",
       "std       3.369578   31.972618      19.355807      15.952218  115.244002   \n",
       "min       0.000000    0.000000       0.000000       0.000000    0.000000   \n",
       "25%       1.000000   99.000000      62.000000       0.000000    0.000000   \n",
       "50%       3.000000  117.000000      72.000000      23.000000   30.500000   \n",
       "75%       6.000000  140.250000      80.000000      32.000000  127.250000   \n",
       "max      17.000000  199.000000     122.000000      99.000000  846.000000   \n",
       "\n",
       "              BMI  DiabetesPedigreeFunction         Age     Outcome  \n",
       "count  768.000000                768.000000  768.000000  768.000000  \n",
       "mean    31.992578                  0.471876   33.240885    0.348958  \n",
       "std      7.884160                  0.331329   11.760232    0.476951  \n",
       "min      0.000000                  0.078000   21.000000    0.000000  \n",
       "25%     27.300000                  0.243750   24.000000    0.000000  \n",
       "50%     32.000000                  0.372500   29.000000    0.000000  \n",
       "75%     36.600000                  0.626250   41.000000    1.000000  \n",
       "max     67.100000                  2.420000   81.000000    1.000000  "
      ]
     },
     "execution_count": 7,
     "metadata": {},
     "output_type": "execute_result"
    }
   ],
   "source": [
    "data.describe()"
   ]
  },
  {
   "cell_type": "markdown",
   "metadata": {},
   "source": [
    "**Histogramme pour la variable Outcome**\n",
    "\n",
    "Un premier graphique nous permet de visualiser le nombre de fois où *Outcome = 0* et *Outcome = 1*."
   ]
  },
  {
   "cell_type": "code",
   "execution_count": 8,
   "metadata": {},
   "outputs": [
    {
     "data": {
      "image/png": "[encoded data removed]",
      "text/plain": [
       "<Figure size 360x360 with 1 Axes>"
      ]
     },
     "metadata": {
      "needs_background": "light"
     },
     "output_type": "display_data"
    }
   ],
   "source": [
    "plt.figure(figsize=(5,5))\n",
    "sns.countplot(data['Outcome'])\n",
    "plt.title('Répartition de la variable réponse Outcome')\n",
    "plt.show()"
   ]
  },
  {
   "cell_type": "markdown",
   "metadata": {},
   "source": [
    "**Histogrammes des colonnes du dataframe**"
   ]
  },
  {
   "cell_type": "code",
   "execution_count": 9,
   "metadata": {},
   "outputs": [
    {
     "data": {
      "image/png": "[encoded data removed]",
      "text/plain": [
       "<Figure size 720x720 with 9 Axes>"
      ]
     },
     "metadata": {
      "needs_background": "light"
     },
     "output_type": "display_data"
    }
   ],
   "source": [
    "data_no_outcome = data.loc[:, data.columns != 'Outcome'] # Toutes les colonnes sauf Outcome\n",
    "data_no_outcome.hist(figsize=(10,10))\n",
    "plt.show()"
   ]
  },
  {
   "cell_type": "markdown",
   "metadata": {},
   "source": [
    "Ces différents histogrammes nous renseignent sur la façon dont les données sont réparties. On remarque par exemple qu'environ 300 observations dans le jeu de données correspondent à des personnes âgées de 21 ans, et environ 250 n'ont jamais été enceintes. \n",
    "\n",
    "Cependant, on peut aussi constater que la présence de 0 pour certaines variables comme *BMI* ou encore *BloodPressure* n'est pas normale. On pourrait éventuellement considérer cela comme des valeurs manquantes et les imputer en prenant la moyenne ou en les retirant, mais nous n'allons pas le faire ici. Il faudra en tenir compte pour les performances des différents modèles."
   ]
  },
  {
   "cell_type": "markdown",
   "metadata": {},
   "source": [
    "### Séparation du jeu d'apprentissage et jeu test\n",
    "Il faut maintenant séparer le dataset en deux jeux de données. Les proportions sont telles que 2/3 des observations vont dans le jeu d'entrainement et 1/3 des données dans le jeu test. <br>\n",
    "La fonction *train_test_split( )* prend par défaut l'argument *Shuffle* = $\\color{green}{True}$ qui permet de mélanger les données avant de les séparer."
   ]
  },
  {
   "cell_type": "code",
   "execution_count": 10,
   "metadata": {},
   "outputs": [],
   "source": [
    "y = data['Outcome'] # Création de la variable réponse\n",
    "X = data.drop(['Outcome'], axis=1) # Retire la colonne Outcome"
   ]
  },
  {
   "cell_type": "code",
   "execution_count": 11,
   "metadata": {},
   "outputs": [],
   "source": [
    "from sklearn.model_selection import train_test_split\n",
    "\n",
    "X_train, X_test, y_train, y_test = train_test_split(X, y, train_size=2/3, test_size=1/3, random_state=0)"
   ]
  },
  {
   "cell_type": "code",
   "execution_count": 12,
   "metadata": {},
   "outputs": [
    {
     "name": "stdout",
     "output_type": "stream",
     "text": [
      "(512, 8)\n",
      "(256, 8)\n"
     ]
    }
   ],
   "source": [
    "print(X_train.shape)\n",
    "print(X_test.shape)"
   ]
  },
  {
   "cell_type": "markdown",
   "metadata": {},
   "source": [
    "## Apprentissage des modèles\n",
    "\n",
    "Pour savoir quels modèles nous allons utiliser, il faut regarder le problème que nous cherchons à résoudre. <br>\n",
    "Ici, c'est un problème de classification, et la variable que l'on souhaite prédire est *Outcome*, qui est une variable binaire, $Y \\in \\{0,1\\}$. <br>\n",
    "De ce fait, les modèles que l'on va utiliser sont : \n",
    "- La régression logistique\n",
    "- Arbre de décision\n",
    "- Random Forest\n",
    "- k-Nearest Neighbors (k-NN)\n",
    "- Support Vector Machine\n",
    "\n",
    "Dans un premier temps, les modèles sont appliquées avec les paramètres de base, c'est-à-dire que ce sont des paramètres choisis par défaut, par Scikit-learn."
   ]
  },
  {
   "cell_type": "markdown",
   "metadata": {},
   "source": [
    "### Régression Logistique\n",
    "\n",
    "La régression logistique est un modèle linéaire généralisé qui est utilisé lorsque la variable réponse est binaire. C'est un modèle très répandu en biologie mais également en Machine Learning."
   ]
  },
  {
   "cell_type": "code",
   "execution_count": 13,
   "metadata": {},
   "outputs": [
    {
     "data": {
      "text/plain": [
       "LogisticRegression(C=1.0, class_weight=None, dual=False, fit_intercept=True,\n",
       "                   intercept_scaling=1, l1_ratio=None, max_iter=500,\n",
       "                   multi_class='auto', n_jobs=None, penalty='l2',\n",
       "                   random_state=0, solver='lbfgs', tol=0.0001, verbose=0,\n",
       "                   warm_start=False)"
      ]
     },
     "execution_count": 13,
     "metadata": {},
     "output_type": "execute_result"
    }
   ],
   "source": [
    "from sklearn.linear_model import LogisticRegression\n",
    "\n",
    "model_LR = LogisticRegression(max_iter=500, random_state=0)\n",
    "model_LR.fit(X_train, y_train)"
   ]
  },
  {
   "cell_type": "markdown",
   "metadata": {},
   "source": [
    "### Arbre de décision\n",
    "\n",
    "L'arbre de décision est une méthode qui, comme son nom l'indique, va créer un arbre permettant de classer les observations. Pour cela, l'arbre va mettre en place différents critères (correspondant à des noeuds) auxquels les observations vont être soumises. En bas de l'arbre, on retrouve les \"feuilles\" qui sont les résultats possibles.\n",
    "\n",
    "Ces arbres sont très pratiques car ils ont une grande interprétabilité. Cependant, la difficulté résulte dans la taille de l'arbre afin d'éviter le sur-apprentissage."
   ]
  },
  {
   "cell_type": "code",
   "execution_count": 14,
   "metadata": {},
   "outputs": [
    {
     "data": {
      "text/plain": [
       "DecisionTreeClassifier(ccp_alpha=0.0, class_weight=None, criterion='gini',\n",
       "                       max_depth=None, max_features=None, max_leaf_nodes=None,\n",
       "                       min_impurity_decrease=0.0, min_impurity_split=None,\n",
       "                       min_samples_leaf=1, min_samples_split=2,\n",
       "                       min_weight_fraction_leaf=0.0, presort='deprecated',\n",
       "                       random_state=0, splitter='best')"
      ]
     },
     "execution_count": 14,
     "metadata": {},
     "output_type": "execute_result"
    }
   ],
   "source": [
    "from sklearn.tree import DecisionTreeClassifier\n",
    "\n",
    "model_DT = DecisionTreeClassifier(random_state=0)\n",
    "model_DT.fit(X_train, y_train)"
   ]
  },
  {
   "cell_type": "markdown",
   "metadata": {},
   "source": [
    "### Random Forest\n",
    "\n",
    "Random Forest est un modèle essayant de pallier à l'inconvénient des Arbres de décision. Le principe consiste à générer un ensemble d'arbre de décision différents, et de regarder les prédictions faites par la majorité des arbres dans la forêt."
   ]
  },
  {
   "cell_type": "code",
   "execution_count": 15,
   "metadata": {},
   "outputs": [
    {
     "data": {
      "text/plain": [
       "RandomForestClassifier(bootstrap=True, ccp_alpha=0.0, class_weight=None,\n",
       "                       criterion='gini', max_depth=None, max_features='auto',\n",
       "                       max_leaf_nodes=None, max_samples=None,\n",
       "                       min_impurity_decrease=0.0, min_impurity_split=None,\n",
       "                       min_samples_leaf=1, min_samples_split=2,\n",
       "                       min_weight_fraction_leaf=0.0, n_estimators=100,\n",
       "                       n_jobs=None, oob_score=False, random_state=0, verbose=0,\n",
       "                       warm_start=False)"
      ]
     },
     "execution_count": 15,
     "metadata": {},
     "output_type": "execute_result"
    }
   ],
   "source": [
    "from sklearn.ensemble import RandomForestClassifier\n",
    "\n",
    "model_RF = RandomForestClassifier(random_state=0)\n",
    "model_RF.fit(X_train, y_train)"
   ]
  },
  {
   "cell_type": "markdown",
   "metadata": {},
   "source": [
    "### k-Nearest Neighbors\n",
    "\n",
    "La méthode des k plus proches voisins consiste à regarder (graphiquement) où se situe le point que l'on souhaite prédire par rapport aux autres points. On fait donc une comparaison par rapport aux \"voisins les plus proches\". Cet algorithme ce base sur la distance.\n",
    "Un des inconvénients majeurs des KNN est que l'ordinateur doit garder en mémoire tous les points. Cette méthode est donc rarement utilisé pour les grands jeux de données, mais ce n'est pas notre cas ici."
   ]
  },
  {
   "cell_type": "code",
   "execution_count": 16,
   "metadata": {},
   "outputs": [
    {
     "data": {
      "text/plain": [
       "KNeighborsClassifier(algorithm='auto', leaf_size=30, metric='minkowski',\n",
       "                     metric_params=None, n_jobs=None, n_neighbors=5, p=2,\n",
       "                     weights='uniform')"
      ]
     },
     "execution_count": 16,
     "metadata": {},
     "output_type": "execute_result"
    }
   ],
   "source": [
    "from sklearn.neighbors import KNeighborsClassifier\n",
    "\n",
    "model_KNN = KNeighborsClassifier()\n",
    "model_KNN.fit(X_train, y_train)"
   ]
  },
  {
   "cell_type": "markdown",
   "metadata": {},
   "source": [
    "### Support Vector Machine \n",
    "\n",
    "Comme les KNN, la méthode des SVM se base sur les distances. Le principe de cet algorithme consiste à trouver une séparation entre les deux classes de données que l'on cherche à prédire, tout en maximisant l'écart de cette séparation par rapport aux données."
   ]
  },
  {
   "cell_type": "code",
   "execution_count": 17,
   "metadata": {},
   "outputs": [
    {
     "data": {
      "text/plain": [
       "SVC(C=1.0, break_ties=False, cache_size=200, class_weight=None, coef0=0.0,\n",
       "    decision_function_shape='ovr', degree=3, gamma='scale', kernel='rbf',\n",
       "    max_iter=-1, probability=False, random_state=0, shrinking=True, tol=0.001,\n",
       "    verbose=False)"
      ]
     },
     "execution_count": 17,
     "metadata": {},
     "output_type": "execute_result"
    }
   ],
   "source": [
    "from sklearn.svm import SVC\n",
    "\n",
    "model_SVM = SVC(random_state=0)\n",
    "model_SVM.fit(X_train, y_train)"
   ]
  },
  {
   "cell_type": "markdown",
   "metadata": {},
   "source": [
    "## Performance des modèles\n",
    "### Métriques\n",
    "\n",
    "Afin de voir les perfomances des modèles que nous venons d'entraîner, on utilise des métriques différentes, qui sont les suivantes : <br>\n",
    "\n",
    "- **Accuracy** (proportion de bien classé) = $\\frac{\\text{Number of correct prediction}}{\\text{Total of number prediction made}}$ = $\\frac{TP + TN}{TP + TN + FP + FN}$\n",
    "\n",
    "- **Precision** = $\\frac{TP}{TP + FP}$, proportion des vrais positifs parmi les positifs.\n",
    "\n",
    "- **Recall ou Sensitivity** = $\\frac{TP}{TP + FN}$, proportion de vrais positifs bien classés\n",
    "\n",
    "- **F1 Score** = $\\frac{2}{\\frac{1}{Recall} + \\frac{1}{Precision}}$, moyenne harmonique entre Recall et Precision\n",
    "\n",
    "- **ROC AUC** (Area Under the Receiver Operating Characteristic Curve), qui est l'aire sous la courbe ROC.\n",
    "\n",
    "Avec TP = Vrai Positif, TN = Vrai Négatif, FP = Faux Positif et FN = Faux Négatif.\n",
    "\n",
    "Pour chaque métrique, on utilise la fonction *cross_val_score( )* permettant d'évaluer les performances via validation-croisée, et on affiche ensuite la **moyenne**.\n",
    "\n",
    "Afin d'évaluer les performances des modèles, on crée une fonction *evaluation( )* prenant en paramètres les différents modèles que l'on souhaite évaluer ainsi que les métriques à utiliser."
   ]
  },
  {
   "cell_type": "code",
   "execution_count": 18,
   "metadata": {},
   "outputs": [
    {
     "name": "stdout",
     "output_type": "stream",
     "text": [
      "\n",
      "Modèle Régression Logistique\n",
      "------------------------------\n",
      "accuracy : 0.749971\n",
      "roc_auc : 0.824165\n",
      "f1 : 0.617367\n",
      "recall : 0.562462\n",
      "precision : 0.691341\n",
      "\n",
      "Modèle Arbre de décision\n",
      "------------------------------\n",
      "accuracy : 0.697278\n",
      "roc_auc : 0.666301\n",
      "f1 : 0.564926\n",
      "recall : 0.557357\n",
      "precision : 0.582046\n",
      "\n",
      "Modèle Random Forest\n",
      "------------------------------\n",
      "accuracy : 0.765601\n",
      "roc_auc : 0.824979\n",
      "f1 : 0.645675\n",
      "recall : 0.600901\n",
      "precision : 0.711102\n",
      "\n",
      "Modèle k-Nearest Neighbors\n",
      "------------------------------\n",
      "accuracy : 0.714811\n",
      "roc_auc : 0.736329\n",
      "f1 : 0.578958\n",
      "recall : 0.545796\n",
      "precision : 0.620349\n",
      "\n",
      "Modèle Support Vector Machines\n",
      "------------------------------\n",
      "accuracy : 0.751894\n",
      "roc_auc : 0.804463\n",
      "f1 : 0.574421\n",
      "recall : 0.47012\n",
      "precision : 0.746178\n"
     ]
    }
   ],
   "source": [
    "from sklearn.model_selection import cross_validate\n",
    "\n",
    "def evaluation(models, metrics): # models = dictionnary, metrics = list\n",
    "    for key, value in models.items():\n",
    "        print('')\n",
    "        print('Modèle', key)\n",
    "        print('-'*30)\n",
    "        score = cross_validate(value, X_train, y_train, cv=5, scoring=metrics)\n",
    "        for metric in metrics:\n",
    "            score_values = score[str('test_' + metric)].mean()\n",
    "            print(metric, ':', round(score_values, 6))\n",
    "\n",
    "# Dictionnaire regroupant les modèles\n",
    "models = {'Régression Logistique': model_LR, 'Arbre de décision' : model_DT, 'Random Forest' : model_RF,\n",
    "         'k-Nearest Neighbors' : model_KNN, 'Support Vector Machines' : model_SVM\n",
    "         }\n",
    "\n",
    "# Liste regroupant les métriques\n",
    "metrics = ['accuracy', 'roc_auc','f1', 'recall', 'precision']\n",
    "\n",
    "evaluation(models, metrics)"
   ]
  },
  {
   "cell_type": "markdown",
   "metadata": {},
   "source": [
    "Nous allons retenir seulement une métrique : **Recall**. En effet, on souhaite bien classer un maximum de personne qui sont diabétiques. Le diabète étant une maladie qui peut avoir de lourdes conséquences, il est important de pouvoir détecter si un individu est diabétique.\n",
    "\n",
    "Par conséquent, on remarque que **Random Forest** s'en sort très bien du fait de son score élevé. La régression logistique est également intéressante puisqu'elle affiche des résultats presque similaire à Random Forest.\n",
    "Le Support Vector Machine, quant à lui, a le Recall le plus faible."
   ]
  },
  {
   "cell_type": "markdown",
   "metadata": {},
   "source": [
    "### Matrices de Confusion\n",
    "\n",
    "On compare les matrices de confusion pour chaque modèle que l'on vient d'entraîner."
   ]
  },
  {
   "cell_type": "code",
   "execution_count": 19,
   "metadata": {},
   "outputs": [
    {
     "data": {
      "image/png": "[encoded data removed]",
      "text/plain": [
       "<Figure size 1440x360 with 6 Axes>"
      ]
     },
     "metadata": {
      "needs_background": "light"
     },
     "output_type": "display_data"
    }
   ],
   "source": [
    "from sklearn.metrics import confusion_matrix, ConfusionMatrixDisplay\n",
    "\n",
    "# Plot confusion matrix\n",
    "f, axes = plt.subplots(1, len(models), figsize=(20, 5), sharey='row') # Creating subplots\n",
    "\n",
    "for i, (key, model) in enumerate(models.items()):\n",
    "    y_pred = model.predict(X_test)\n",
    "    cf_matrix = confusion_matrix(y_test, y_pred)\n",
    "    disp = ConfusionMatrixDisplay(cf_matrix,\n",
    "                                  display_labels=['0','1']\n",
    "                                 )\n",
    "    disp.plot(ax=axes[i], cmap=plt.cm.Blues, values_format='d') # Color and format\n",
    "    disp.ax_.set_title(key) # Title\n",
    "    disp.im_.colorbar.remove() # Removing color bar\n",
    "    disp.ax_.set_xlabel('') # Removing xlabel\n",
    "    if i!=0:\n",
    "        disp.ax_.set_ylabel('') # Removing ylabel except the first one\n",
    "\n",
    "f.text(0.4, 0.1, 'Predicted label', ha='left') # Legend\n",
    "plt.subplots_adjust(wspace=0.40, hspace=0.1)\n",
    "\n",
    "f.colorbar(disp.im_, ax=axes)\n",
    "plt.show()"
   ]
  },
  {
   "cell_type": "markdown",
   "metadata": {},
   "source": [
    "Les matrices de confusion nous renseignent sur les TP, TN, FP et FN.\n",
    "Ici, on voit que seulement 136 Vrai Négatif ont été correctement classés pour l'Arbre de décision, et que pour le Support Vector Machine il y a beaucoup de Faux Négatif (49).\n",
    "\n",
    "Le jeu de données n'est pas très équilibré. En effet, il y a environ 500 individus sains pour 250 personnes diabétiques. Cela peut expliquer pourquoi les modèles arrivent mieux à classer les individus Négatifs."
   ]
  },
  {
   "cell_type": "markdown",
   "metadata": {},
   "source": [
    "### Courbe d'apprentissage\n",
    "\n",
    "On trace maintenant les courbes d'apprentissage de chaque modèle, pour constater éventuellement des cas de sur-apprentissage ou sous-apprentissage."
   ]
  },
  {
   "cell_type": "code",
   "execution_count": 20,
   "metadata": {},
   "outputs": [
    {
     "data": {
      "image/png": "[encoded data removed]",
      "text/plain": [
       "<Figure size 360x360 with 1 Axes>"
      ]
     },
     "metadata": {
      "needs_background": "light"
     },
     "output_type": "display_data"
    },
    {
     "data": {
      "image/png": "[encoded data removed]",
      "text/plain": [
       "<Figure size 360x360 with 1 Axes>"
      ]
     },
     "metadata": {
      "needs_background": "light"
     },
     "output_type": "display_data"
    },
    {
     "data": {
      "image/png": "[encoded data removed]",
      "text/plain": [
       "<Figure size 360x360 with 1 Axes>"
      ]
     },
     "metadata": {
      "needs_background": "light"
     },
     "output_type": "display_data"
    },
    {
     "data": {
      "image/png": "[encoded data removed]",
      "text/plain": [
       "<Figure size 360x360 with 1 Axes>"
      ]
     },
     "metadata": {
      "needs_background": "light"
     },
     "output_type": "display_data"
    },
    {
     "data": {
      "image/png": "[encoded data removed]",
      "text/plain": [
       "<Figure size 360x360 with 1 Axes>"
      ]
     },
     "metadata": {
      "needs_background": "light"
     },
     "output_type": "display_data"
    }
   ],
   "source": [
    "from sklearn.model_selection import learning_curve\n",
    "\n",
    "def plot_learning_curve(models):\n",
    "    for key, value in models.items():\n",
    "        N, train_score, val_score = learning_curve(value, X_train, y_train,\n",
    "                                                   cv=5, scoring='recall',\n",
    "                                                   train_sizes=np.linspace(0.1, 1, 20)\n",
    "                                                  )\n",
    "        plt.figure(figsize=(5, 5))\n",
    "        plt.title(str(key))\n",
    "        plt.plot(N, train_score.mean(axis=1), label='Train score')\n",
    "        plt.plot(N, val_score.mean(axis=1), label='Validation score')\n",
    "        plt.xlabel('Set Size')\n",
    "        plt.ylabel('Score')\n",
    "        plt.legend()\n",
    "\n",
    "plot_learning_curve(models)"
   ]
  },
  {
   "cell_type": "markdown",
   "metadata": {},
   "source": [
    "Pour les modèles Random Forest et Arbre de décision, on constate un sur-apprentissage (le score du Train set est bien supérieur au score du Validation set), et également pour les KNN, bien que le phénomène soit plus léger.\n",
    "\n",
    "La régression logistique est en sur-apprentissage au début mais le problème se règle assez rapidement.\n",
    "\n",
    "Enfin, pour le SVM, les prédictions sont plutôt correctes entre le Train set et Validation set."
   ]
  },
  {
   "cell_type": "markdown",
   "metadata": {},
   "source": [
    "## Optimisation des hyperparamètres pour Random Forest\n",
    "\n",
    "Le modèle que l'on retient pour l'optimisation des hyperparamètres est Random Forest. Bien qu'il y est un problème d'overfitting, l'optimisation devrait résoudre le problème, en plus d'améliorer le score pour la métrique Recall."
   ]
  },
  {
   "cell_type": "code",
   "execution_count": 21,
   "metadata": {},
   "outputs": [
    {
     "name": "stdout",
     "output_type": "stream",
     "text": [
      "{'bootstrap': True, 'ccp_alpha': 0.0, 'class_weight': None, 'criterion': 'gini', 'max_depth': None, 'max_features': 'auto', 'max_leaf_nodes': None, 'max_samples': None, 'min_impurity_decrease': 0.0, 'min_impurity_split': None, 'min_samples_leaf': 1, 'min_samples_split': 2, 'min_weight_fraction_leaf': 0.0, 'n_estimators': 100, 'n_jobs': None, 'oob_score': False, 'random_state': 0, 'verbose': 0, 'warm_start': False}\n"
     ]
    }
   ],
   "source": [
    "from sklearn.model_selection import GridSearchCV, RandomizedSearchCV\n",
    "\n",
    "print(model_RF.get_params()) # Tous les paramètres dans notre modèle Random Forest"
   ]
  },
  {
   "cell_type": "code",
   "execution_count": 22,
   "metadata": {},
   "outputs": [
    {
     "data": {
      "text/plain": [
       "RandomizedSearchCV(cv=5, error_score=nan,\n",
       "                   estimator=RandomForestClassifier(bootstrap=True,\n",
       "                                                    ccp_alpha=0.0,\n",
       "                                                    class_weight=None,\n",
       "                                                    criterion='gini',\n",
       "                                                    max_depth=None,\n",
       "                                                    max_features='auto',\n",
       "                                                    max_leaf_nodes=None,\n",
       "                                                    max_samples=None,\n",
       "                                                    min_impurity_decrease=0.0,\n",
       "                                                    min_impurity_split=None,\n",
       "                                                    min_samples_leaf=1,\n",
       "                                                    min_samples_split=2,\n",
       "                                                    min_weight_fraction_leaf=0.0,\n",
       "                                                    n_estimators=100,\n",
       "                                                    n_jobs=None,\n",
       "                                                    oob_score=False,\n",
       "                                                    random_state=0, verbose=0,\n",
       "                                                    warm_start=False),\n",
       "                   iid='deprecated', n_iter=20, n_jobs=None,\n",
       "                   param_distributions={'max_depth': range(0, 15),\n",
       "                                        'min_samples_leaf': range(0, 15),\n",
       "                                        'min_samples_split': range(0, 15),\n",
       "                                        'n_estimators': range(0, 250)},\n",
       "                   pre_dispatch='2*n_jobs', random_state=0, refit=True,\n",
       "                   return_train_score=False, scoring='recall', verbose=0)"
      ]
     },
     "execution_count": 22,
     "metadata": {},
     "output_type": "execute_result"
    }
   ],
   "source": [
    "# Dictionnaire des paramètres\n",
    "param_RF = {\n",
    " 'max_depth': range(15),\n",
    " 'min_samples_leaf': range(15),\n",
    " 'min_samples_split': range(15),\n",
    " 'n_estimators': range(250)}\n",
    "\n",
    "# Optimisation \n",
    "random_RF = RandomizedSearchCV(estimator = model_RF, \n",
    "                               param_distributions = param_RF, \n",
    "                               scoring='recall', cv=5, \n",
    "                               random_state=0, n_iter=20\n",
    "                              )\n",
    "\n",
    "random_RF.fit(X_train, y_train)"
   ]
  },
  {
   "cell_type": "code",
   "execution_count": 23,
   "metadata": {},
   "outputs": [
    {
     "data": {
      "text/plain": [
       "(0.5737237237237238,\n",
       " {'n_estimators': 48,\n",
       "  'min_samples_split': 10,\n",
       "  'min_samples_leaf': 3,\n",
       "  'max_depth': 13})"
      ]
     },
     "execution_count": 23,
     "metadata": {},
     "output_type": "execute_result"
    }
   ],
   "source": [
    "random_RF.best_score_, random_RF.best_params_"
   ]
  },
  {
   "cell_type": "markdown",
   "metadata": {},
   "source": [
    "Les meilleurs paramètres pour la Random Forest sont :\n",
    "- n_estimators = 48 *(nombre d'arbres dans la forêt)*\n",
    "- min_samples_split = 10 *(nombre minimum d'observations nécessaire pour séparer un noeud)*\n",
    "- min_samples_leaf = 3 *(nombre minimum d'observations que l'on doit trouver aux feuilles d'un arbre)*\n",
    "- max_depth = 13 *(profondeur maximale des arbres)*\n",
    "\n",
    "Avec ces paramètres, le meilleur score Recall obtenu est de 57,37%."
   ]
  },
  {
   "cell_type": "markdown",
   "metadata": {},
   "source": [
    "### Courbe d'apprentissage Random Forest"
   ]
  },
  {
   "cell_type": "code",
   "execution_count": 24,
   "metadata": {},
   "outputs": [
    {
     "data": {
      "image/png": "[encoded data removed]",
      "text/plain": [
       "<Figure size 360x360 with 1 Axes>"
      ]
     },
     "metadata": {
      "needs_background": "light"
     },
     "output_type": "display_data"
    }
   ],
   "source": [
    "best_RF_dict = {'Best Random Forest' : random_RF.best_estimator_}\n",
    "plot_learning_curve(best_RF_dict)"
   ]
  },
  {
   "cell_type": "markdown",
   "metadata": {},
   "source": [
    "Ce graphique nous montre qu'il y a toujours un sur-apprentissage du modèle, mais nettement moins que précédement. Il faudrait, par conséquent, récolter plus de données pour réduire le sur-apprentissage."
   ]
  },
  {
   "cell_type": "markdown",
   "metadata": {},
   "source": [
    "## Perfomances \n",
    "### Courbe Precision-Recall\n",
    "\n",
    "Etant donné qu'on a un dataset déséquilibré, on trace la courbe de Precision-Recall plutôt que la courbe ROC."
   ]
  },
  {
   "cell_type": "code",
   "execution_count": 25,
   "metadata": {},
   "outputs": [
    {
     "data": {
      "image/png": "[encoded data removed]",
      "text/plain": [
       "<Figure size 432x288 with 1 Axes>"
      ]
     },
     "metadata": {
      "needs_background": "light"
     },
     "output_type": "display_data"
    }
   ],
   "source": [
    "from sklearn.metrics import plot_precision_recall_curve\n",
    "\n",
    "plot_precision_recall_curve(random_RF.best_estimator_, X_test, y_test)\n",
    "plt.title('Courbe Precision-Recall pour la Random Forest optimisée')\n",
    "plt.show()"
   ]
  },
  {
   "cell_type": "markdown",
   "metadata": {},
   "source": [
    "### Métriques"
   ]
  },
  {
   "cell_type": "code",
   "execution_count": 26,
   "metadata": {},
   "outputs": [
    {
     "name": "stdout",
     "output_type": "stream",
     "text": [
      "Precision Random Forest optimisé : 0.7301587301587301\n",
      "Precision Random Forest de base : 0.6984126984126984\n",
      "\n",
      "F1 Score Random Forest optimisé : 0.6216216216216216\n",
      "F1 Score Random Forest de base : 0.5945945945945945\n",
      "\n",
      "Recall Random Forest optimisé : 0.5411764705882353\n",
      "Recall Random Forest de base : 0.5176470588235295\n",
      "\n",
      "Matrice de confusion du modèle optimisé \n",
      " [[154  17]\n",
      " [ 39  46]]\n",
      "\n",
      "Matrice de confusion du modèle de base \n",
      " [[152  19]\n",
      " [ 41  44]]\n"
     ]
    }
   ],
   "source": [
    "from sklearn.metrics import recall_score, precision_score, f1_score\n",
    "\n",
    "best_RF_pred = random_RF.best_estimator_.predict(X_test)\n",
    "model_RF_pred = model_RF.predict(X_test)\n",
    "\n",
    "\n",
    "print('Precision Random Forest optimisé :', precision_score(y_test, best_RF_pred))\n",
    "print('Precision Random Forest de base :', precision_score(y_test, model_RF_pred))\n",
    "\n",
    "print('\\nF1 Score Random Forest optimisé :', f1_score(y_test, best_RF_pred))\n",
    "print('F1 Score Random Forest de base :', f1_score(y_test, model_RF_pred))\n",
    "\n",
    "print('\\nRecall Random Forest optimisé :', recall_score(y_test, best_RF_pred))\n",
    "print('Recall Random Forest de base :', recall_score(y_test, model_RF_pred))\n",
    "\n",
    "print('\\nMatrice de confusion du modèle optimisé \\n', confusion_matrix(y_test, best_RF_pred))\n",
    "print('\\nMatrice de confusion du modèle de base \\n', confusion_matrix(y_test, model_RF_pred))"
   ]
  },
  {
   "cell_type": "markdown",
   "metadata": {},
   "source": [
    "On a réussi à gagner 3% sur le Recall (et en parallèle sur le Score F1 et la Precision) en optimisant le modèle Random Forest. Ce score pourrait être amélioré davatange en optimisant le modèle avec *GridSearchCV( )* qui crée tous les modèles possible pour nos valeurs de paramètres définis dans le dictionnaire \"param_RF\". Cependant cette fonction prend beaucoup de temps, c'est pourquoi on utilise ici *RandomizedSearchCV( )* qui est plus rapide car elle va rechercher aléatoirement les meilleurs hyperparamètres jusqu'à un nombre d'itération fixé (dans notre cas n_iter=20). Donc tous les paramètres dans le dictionnaire \"param_RF\" ne sont pas testés."
   ]
  },
  {
   "cell_type": "markdown",
   "metadata": {},
   "source": [
    "## Conclusion\n",
    "\n",
    "En conclusion, avec le modèle Random Forest que nous venons d'optimiser, on obtient un score Recall de 54% sur le Test set. Cela signifie qu'on a 54% de chance de diagnostiquer qu'une personne est diabétique alors que celle-ci est bien atteinte du diabète. Toutefois, cela reste un score qui est faible.\n",
    "\n",
    "Les résultats pourraient être améliorés en réalisant une meilleure optimisation des hyperparamètres, et aussi en s'occupant des variables ayant des valeurs égales à 0 telle que *BloodPressure* ou *SkinThickness*. En effet, cela a très certainement un impact sur l'apprentissage des modèles.\n",
    "De plus, il faut également prendre en compte que le jeu de données est assez petit (768 oberservations), et le fait de créer un train et test set le rend encore plus petit. Les modèles n'ont pas énormément de données pour bien apprendre, et il faudrait donc en récolter davantage."
   ]
  }
 ],
 "metadata": {
  "kernelspec": {
   "display_name": "Python 3",
   "language": "python",
   "name": "python3"
  },
  "language_info": {
   "codemirror_mode": {
    "name": "ipython",
    "version": 3
   },
   "file_extension": ".py",
   "mimetype": "text/x-python",
   "name": "python",
   "nbconvert_exporter": "python",
   "pygments_lexer": "ipython3",
   "version": "3.7.6"
  }
 },
 "nbformat": 4,
 "nbformat_minor": 4
}
